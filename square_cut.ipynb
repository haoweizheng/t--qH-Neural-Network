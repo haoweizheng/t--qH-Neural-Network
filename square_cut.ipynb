{
 "cells": [
  {
   "cell_type": "code",
   "execution_count": 1,
   "metadata": {},
   "outputs": [],
   "source": [
    "import pandas as pd\n",
    "import numpy as np\n",
    "import seaborn as sns\n",
    "from pylorentz import Momentum4\n",
    "import itertools\n",
    "\n",
    "from matplotlib import pyplot as plt\n",
    "\n",
    "top_mass = 173000"
   ]
  },
  {
   "cell_type": "code",
   "execution_count": 2,
   "metadata": {},
   "outputs": [],
   "source": [
    "y_vars = ['y1_pt', 'y1_eta', 'y1_phi', 'y1_E', 'y2_pt', 'y2_eta', 'y2_phi', 'y2_E']\n",
    "jet_vars = ['jet%d_pt','jet%d_eta','jet%d_phi', 'jet%d_E','jet%d_DLR1'] \n",
    "labels = []\n",
    "for x in range(0,4):\n",
    "    for var in jet_vars:\n",
    "        labels.append(var %x)\n",
    "labels = y_vars + labels"
   ]
  },
  {
   "cell_type": "code",
   "execution_count": 3,
   "metadata": {},
   "outputs": [],
   "source": [
    "signal = pd.read_csv('signal_filtered.csv')\n",
    "bkgd = pd.read_csv('background_filtered.csv')"
   ]
  },
  {
   "cell_type": "code",
   "execution_count": 4,
   "metadata": {},
   "outputs": [],
   "source": [
    "top1_masses_signal = []\n",
    "top2_masses_signal = []\n",
    "cat_signal = np.zeros(len(signal))\n",
    "myy_signal = []"
   ]
  },
  {
   "cell_type": "code",
   "execution_count": 5,
   "metadata": {},
   "outputs": [],
   "source": [
    "signal_extended = signal.copy()\n",
    "bkgd_extended = bkgd.copy()"
   ]
  },
  {
   "cell_type": "code",
   "execution_count": 6,
   "metadata": {},
   "outputs": [],
   "source": [
    "for i, row in signal_extended.iterrows():\n",
    "    jets = []\n",
    "\n",
    "    photon1 = Momentum4.e_eta_phi_pt(row[\"y1_E\"], row[\"y1_eta\"], row[\"y1_phi\"], row[\"y1_pt\"])\n",
    "    photon2 = Momentum4.e_eta_phi_pt(row[\"y2_E\"], row[\"y2_eta\"], row[\"y2_phi\"], row[\"y2_pt\"])\n",
    "\n",
    "    yy = photon1 + photon2\n",
    "    myy_signal.append(yy.m)\n",
    "    for j in range(0, 4):\n",
    "        jets.append([row['jet%d_pt' %j], row['jet%d_eta' %j], row['jet%d_phi' %j], row['jet%d_E' %j], row['jet%d_DLR1' %j], j])\n",
    "\n",
    "    jets_momenta = [Momentum4.e_eta_phi_pt(jet[3], jet[1], jet[2], jet[0]) for jet in jets]\n",
    "\n",
    "    top1s = [momentum + yy for momentum in jets_momenta]\n",
    "\n",
    "    #add top1 mass for plotting\n",
    "    for item in top1s:\n",
    "        top1_masses_signal.append(item.m)\n",
    "    #select top1 mass within \n",
    "    for index in range(4):\n",
    "        if(top1s[index].m > 152000 and top1s[index].m < 190000):\n",
    "            remaining_jets = jets_momenta.copy()\n",
    "            remaining_jets.pop(index)\n",
    "            top2 = remaining_jets[0]+remaining_jets[1]+remaining_jets[2]\n",
    "            top2_masses_signal.append(top2.m)\n",
    "            if(top2.m > 120000 and top2.m < 220000):\n",
    "                cat_signal[i] = 1\n",
    "            else:\n",
    "                cat_signal[i] = 2\n",
    "\n",
    "    \n",
    "\n"
   ]
  },
  {
   "cell_type": "code",
   "execution_count": 7,
   "metadata": {},
   "outputs": [],
   "source": [
    "signal_extended[\"category\"] = [int(i) for i in cat_signal]\n",
    "signal_extended[\"myy\"] = myy_signal\n"
   ]
  },
  {
   "cell_type": "code",
   "execution_count": null,
   "metadata": {},
   "outputs": [],
   "source": []
  },
  {
   "cell_type": "code",
   "execution_count": 8,
   "metadata": {},
   "outputs": [],
   "source": [
    "\n",
    "myy_bkgd = []\n",
    "top1_masses_bkgd = []\n",
    "top2_masses_bkgd = []\n",
    "cat_bkgd = np.zeros(len(bkgd))"
   ]
  },
  {
   "cell_type": "code",
   "execution_count": 9,
   "metadata": {},
   "outputs": [],
   "source": [
    "for i, row in bkgd_extended.iterrows():\n",
    "    jets = []\n",
    "\n",
    "    photon1 = Momentum4.e_eta_phi_pt(row[\"y1_E\"], row[\"y1_eta\"], row[\"y1_phi\"], row[\"y1_pt\"])\n",
    "    photon2 = Momentum4.e_eta_phi_pt(row[\"y2_E\"], row[\"y2_eta\"], row[\"y2_phi\"], row[\"y2_pt\"])\n",
    "\n",
    "    yy = photon1 + photon2\n",
    "\n",
    "    myy_bkgd.append(yy.m)\n",
    "\n",
    "    for j in range(0, 4):\n",
    "        jets.append([row['jet%d_pt' %j], row['jet%d_eta' %j], row['jet%d_phi' %j], row['jet%d_E' %j], row['jet%d_DLR1' %j], j])\n",
    "\n",
    "    jets_momenta = [Momentum4.e_eta_phi_pt(jet[3], jet[1], jet[2], jet[0]) for jet in jets]\n",
    "\n",
    "    top1s = [momentum + yy for momentum in jets_momenta]\n",
    "\n",
    "    #add top1 mass for plotting\n",
    "    for item in top1s:\n",
    "        top1_masses_bkgd.append(item.m)\n",
    "    #select top1 mass within \n",
    "    for index in range(4):\n",
    "        if(top1s[index].m > 152000 and top1s[index].m < 190000):\n",
    "            remaining_jets = jets_momenta.copy()\n",
    "            remaining_jets.pop(index)\n",
    "            top2 = remaining_jets[0]+remaining_jets[1]+remaining_jets[2]\n",
    "            #add top2 mass for plotting\n",
    "            top2_masses_bkgd.append(top2.m)\n",
    "            if(top2.m > 120000 and top2.m < 220000):\n",
    "                cat_bkgd[i] = 1\n",
    "            else:\n",
    "                cat_bkgd[i] = 2"
   ]
  },
  {
   "cell_type": "code",
   "execution_count": 10,
   "metadata": {},
   "outputs": [
    {
     "data": {
      "image/png": "[encoded data removed]",
      "text/plain": [
       "<Figure size 432x288 with 1 Axes>"
      ]
     },
     "metadata": {
      "needs_background": "light"
     },
     "output_type": "display_data"
    }
   ],
   "source": [
    "plt.hist(top1_masses_signal, 100, range = (0, 5e5), density= True, histtype='step', label=\"Signal\")\n",
    "plt.hist(top1_masses_bkgd, 100, range = (0, 5e5), density = True, label = \"Background\")\n",
    "plt.axvline(152000, ymin = 0, ymax = 1.2, linestyle = '--', c = 'black')\n",
    "plt.axvline(190000, ymin = 0, ymax = 1.2, linestyle = '--', c = 'black')\n",
    "plt.legend()\n",
    "plt.title(\"Reconstructed Top1 Mass\")\n",
    "plt.ylabel(\"Probability Density/5GeV\")\n",
    "plt.show()"
   ]
  },
  {
   "cell_type": "code",
   "execution_count": 11,
   "metadata": {},
   "outputs": [
    {
     "data": {
      "image/png": "[encoded data removed]",
      "text/plain": [
       "<Figure size 432x288 with 1 Axes>"
      ]
     },
     "metadata": {
      "needs_background": "light"
     },
     "output_type": "display_data"
    }
   ],
   "source": [
    "plt.hist(top2_masses_signal, 25, range = (0, 5e5), density= True, histtype='step', label=\"Signal\")\n",
    "plt.hist(top2_masses_bkgd, 25, range = (0, 5e5), density = True, label = \"Background\")\n",
    "plt.axvline(120000, ymin = 0, ymax = 1.2, linestyle = '--', c = 'black')\n",
    "plt.axvline(220000, ymin = 0, ymax = 1.2, linestyle = '--', c = 'black')\n",
    "plt.title(\"Reconstructed Top 2 Mass\")\n",
    "plt.legend()\n",
    "plt.ylabel(\"Probability Density/20GeV\")\n",
    "plt.show()"
   ]
  },
  {
   "cell_type": "code",
   "execution_count": 12,
   "metadata": {},
   "outputs": [],
   "source": [
    "num_accepted_1 = np.count_nonzero(cat_signal == 1)\n",
    "num_accepted_2 = np.count_nonzero(cat_signal == 2)\n",
    "\n",
    "num_accepted_1_bkgd = np.count_nonzero(cat_bkgd == 1)\n",
    "num_accepted_2_bkgd = np.count_nonzero(cat_bkgd == 2)\n",
    "\n",
    "num_signal = len(signal)\n",
    "num_signal_preselect = 50000\n",
    "num_bkgd_preselect = 1780130"
   ]
  },
  {
   "cell_type": "code",
   "execution_count": 13,
   "metadata": {},
   "outputs": [],
   "source": [
    "acceptance_1 = num_accepted_1/num_signal\n",
    "acceptance_2 = num_accepted_2/num_signal"
   ]
  },
  {
   "cell_type": "code",
   "execution_count": 14,
   "metadata": {},
   "outputs": [
    {
     "data": {
      "text/plain": [
       "0.4399954883825852"
      ]
     },
     "execution_count": 14,
     "metadata": {},
     "output_type": "execute_result"
    }
   ],
   "source": [
    "acceptance_2"
   ]
  },
  {
   "cell_type": "code",
   "execution_count": 15,
   "metadata": {},
   "outputs": [
    {
     "data": {
      "text/plain": [
       "0.27430633882246785"
      ]
     },
     "execution_count": 15,
     "metadata": {},
     "output_type": "execute_result"
    }
   ],
   "source": [
    "acceptance_1"
   ]
  },
  {
   "cell_type": "code",
   "execution_count": 16,
   "metadata": {},
   "outputs": [],
   "source": [
    "bkgd_extended[\"category\"] = cat_bkgd\n",
    "bkgd_extended[\"myy\"] = myy_bkgd"
   ]
  },
  {
   "cell_type": "code",
   "execution_count": 17,
   "metadata": {},
   "outputs": [],
   "source": [
    "signal_extended.to_csv(\"signal_cat.csv\", index = False)"
   ]
  },
  {
   "cell_type": "code",
   "execution_count": 18,
   "metadata": {},
   "outputs": [],
   "source": [
    "bkgd_extended.to_csv(\"background_cat.csv\", index = False)"
   ]
  },
  {
   "cell_type": "code",
   "execution_count": 19,
   "metadata": {},
   "outputs": [],
   "source": [
    "acceptance_1_presel = num_accepted_1/num_signal_preselect\n",
    "acceptance_1_presel_bkgd = num_accepted_1_bkgd/num_bkgd_preselect"
   ]
  },
  {
   "cell_type": "code",
   "execution_count": 20,
   "metadata": {},
   "outputs": [],
   "source": [
    "acceptance_2_presel = num_accepted_2/num_signal_preselect\n",
    "acceptance_2_presel_bkgd = num_accepted_2_bkgd/num_bkgd_preselect"
   ]
  },
  {
   "cell_type": "code",
   "execution_count": 21,
   "metadata": {},
   "outputs": [],
   "source": [
    "lumi=139\n",
    "sigma=832.*1000\n",
    "sigma_bkgd = 51.8*1000\n",
    "AE_signal=0.0289\n",
    "BR_Hyy = 0.0023\n",
    "#BR_Whad = 0.676 --> for the arXiv paper already factored in AE factor\n",
    "BR_Hc = 0.001\n",
    "#factor 2 for t and tbar decay combination \n",
    "BR_tHc = 2.*BR_Hc\n",
    "\n",
    "BR_hadron = 0.676\n"
   ]
  },
  {
   "cell_type": "code",
   "execution_count": 22,
   "metadata": {},
   "outputs": [],
   "source": [
    "expected_sig_1 = lumi*sigma*BR_Hyy*BR_tHc*acceptance_1_presel*BR_hadron\n",
    "expected_sig_2 = lumi*sigma*BR_Hyy*BR_tHc*acceptance_2_presel*BR_hadron"
   ]
  },
  {
   "cell_type": "code",
   "execution_count": 23,
   "metadata": {},
   "outputs": [],
   "source": [
    "expected_bkgd_1 = lumi*sigma_bkgd*0.003656*acceptance_1_presel_bkgd\n",
    "expected_bkgd_2 = lumi*sigma_bkgd*0.003656*acceptance_2_presel_bkgd"
   ]
  },
  {
   "cell_type": "code",
   "execution_count": 27,
   "metadata": {},
   "outputs": [
    {
     "data": {
      "text/plain": [
       "17.491869171712004"
      ]
     },
     "execution_count": 27,
     "metadata": {},
     "output_type": "execute_result"
    }
   ],
   "source": [
    "expected_sig_1"
   ]
  },
  {
   "cell_type": "code",
   "execution_count": 28,
   "metadata": {},
   "outputs": [
    {
     "data": {
      "text/plain": [
       "28.057476002816006"
      ]
     },
     "execution_count": 28,
     "metadata": {},
     "output_type": "execute_result"
    }
   ],
   "source": [
    "expected_sig_2"
   ]
  },
  {
   "cell_type": "code",
   "execution_count": null,
   "metadata": {},
   "outputs": [],
   "source": []
  }
 ],
 "metadata": {
  "interpreter": {
   "hash": "3bd71457e40f30d8afcd3093f02a27cb92b2d859144c680522ad91a9c2d275e4"
  },
  "kernelspec": {
   "display_name": "Python 3.8.10 64-bit ('tf': conda)",
   "language": "python",
   "name": "python3"
  },
  "language_info": {
   "codemirror_mode": {
    "name": "ipython",
    "version": 3
   },
   "file_extension": ".py",
   "mimetype": "text/x-python",
   "name": "python",
   "nbconvert_exporter": "python",
   "pygments_lexer": "ipython3",
   "version": "3.8.10"
  },
  "orig_nbformat": 4
 },
 "nbformat": 4,
 "nbformat_minor": 2
}
